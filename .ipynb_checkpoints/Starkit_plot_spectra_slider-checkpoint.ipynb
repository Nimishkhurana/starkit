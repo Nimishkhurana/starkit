{
 "cells": [
  {
   "cell_type": "code",
   "execution_count": 1,
   "metadata": {},
   "outputs": [],
   "source": [
    "from starkit.gridkit import load_grid\n",
    "\n",
    "import matplotlib.pyplot as plt\n",
    "\n",
    "from ipywidgets import interact\n",
    "import ipywidgets as widgets\n",
    "\n"
   ]
  },
  {
   "cell_type": "code",
   "execution_count": null,
   "metadata": {},
   "outputs": [],
   "source": []
  },
  {
   "cell_type": "code",
   "execution_count": 2,
   "metadata": {},
   "outputs": [
    {
     "data": {
      "application/javascript": [
       "IPython.OutputArea.prototype._should_scroll = function(lines) {\n",
       "    return false;\n",
       "}"
      ],
      "text/plain": [
       "<IPython.core.display.Javascript object>"
      ]
     },
     "metadata": {},
     "output_type": "display_data"
    }
   ],
   "source": [
    "%%javascript\n",
    "IPython.OutputArea.prototype._should_scroll = function(lines) {\n",
    "    return false;\n",
    "}"
   ]
  },
  {
   "cell_type": "code",
   "execution_count": 3,
   "metadata": {},
   "outputs": [
    {
     "name": "stdout",
     "output_type": "stream",
     "text": [
      "[\u001b[1mstarkit.gridkit.base\u001b[0m][\u001b[1;37mINFO\u001b[0m   ]  Reading index (\u001b[1mbase.py\u001b[0m:266)\n",
      "[\u001b[1mstarkit.gridkit.base\u001b[0m][\u001b[1;37mINFO\u001b[0m   ]  Discovered columns teff, logg, mh (\u001b[1mbase.py\u001b[0m:269)\n",
      "[\u001b[1mstarkit.gridkit.base\u001b[0m][\u001b[1;37mINFO\u001b[0m   ]  Reading Fluxes (\u001b[1mbase.py\u001b[0m:272)\n",
      "[\u001b[1mstarkit.gridkit.base\u001b[0m][\u001b[1;37mINFO\u001b[0m   ]  Fluxes shape (688, 13184) (\u001b[1mbase.py\u001b[0m:275)\n",
      "[\u001b[1mpy.warnings         \u001b[0m][\u001b[1;33mWARNING\u001b[0m]  /home/nimish/anaconda3/envs/starkit/lib/python2.7/site-packages/astropy/units/format/generic.py:461: UnitsWarning: 'erg/s/angstrom' contains multiple slashes, which is discouraged by the FITS standard\n",
      "  core.UnitsWarning)\n",
      " (\u001b[1mgeneric.py\u001b[0m:461)\n",
      "[\u001b[1mstarkit.gridkit.base\u001b[0m][\u001b[1;37mINFO\u001b[0m   ]  Initializing spec grid (\u001b[1mbase.py\u001b[0m:309)\n",
      "[\u001b[1mstarkit.gridkit.base\u001b[0m][\u001b[1;33mWARNING\u001b[0m]  **** NO WAVELENGTH TYPE SET DEFAULTING TO GRID (vacuum) ****\n",
      "\n",
      " (\u001b[1mbase.py\u001b[0m:75)\n"
     ]
    }
   ],
   "source": [
    "grid = load_grid('/home/nimish/Documents/phoenix_t4000_10000_w3000_9000_r3000.h5')"
   ]
  },
  {
   "cell_type": "code",
   "execution_count": 4,
   "metadata": {},
   "outputs": [
    {
     "name": "stdout",
     "output_type": "stream",
     "text": [
      "Parameter('teff', value=4000.0, bounds=(4000.0, 10000.0))\n",
      "Parameter('logg', value=3.0, bounds=(3.0, 5.0))\n",
      "Parameter('mh', value=0.0, bounds=(-1.0, 0.0))\n"
     ]
    }
   ],
   "source": [
    "print(grid.teff)\n",
    "print(grid.logg)\n",
    "print(grid.mh)"
   ]
  },
  {
   "cell_type": "code",
   "execution_count": 5,
   "metadata": {},
   "outputs": [],
   "source": [
    "def plot_spectra(teff1 = 4000,logg1 = 3,mh1 = 0,teff2 = 4000,logg2 = 3,mh2 = 0):\n",
    "    grid.teff = teff1\n",
    "    grid.logg = logg1\n",
    "    grid.mh = mh1\n",
    "    wave1,flux1 = grid()\n",
    "    grid.teff = teff2\n",
    "    grid.logg = logg2\n",
    "    grid.mh = mh2\n",
    "    wave2,flux2 = grid()\n",
    "    plt.plot(wave1,flux1,'r',label = 'Teff = {}  logg={}  mh={}'.format(teff1,logg1,mh1))\n",
    "    plt.plot(wave2,flux2,'g',label = 'Teff = {}  logg={}  mh={}'.format(teff2,logg2,mh2))\n",
    "    plt.legend()\n",
    "    plt.show()\n"
   ]
  },
  {
   "cell_type": "code",
   "execution_count": 6,
   "metadata": {
    "scrolled": true
   },
   "outputs": [
    {
     "data": {
      "application/vnd.jupyter.widget-view+json": {
       "model_id": "d3c7275fd3674cb3aca326eaac02a98c",
       "version_major": 2,
       "version_minor": 0
      },
      "text/plain": [
       "aW50ZXJhY3RpdmUoY2hpbGRyZW49KEZsb2F0U2xpZGVyKHZhbHVlPTQwMDAuMCwgZGVzY3JpcHRpb249dSd0ZWZmMScsIG1heD0xMDAwMC4wLCBtaW49NDAwMC4wKSwgRmxvYXRTbGlkZXIodmHigKY=\n"
      ]
     },
     "metadata": {},
     "output_type": "display_data"
    },
    {
     "data": {
      "text/plain": [
       "<function __main__.plot_spectra>"
      ]
     },
     "execution_count": 6,
     "metadata": {},
     "output_type": "execute_result"
    }
   ],
   "source": [
    "\n",
    "interact(plot_spectra, teff1 = grid.teff.bounds,logg1 = grid.logg.bounds,mh1 = grid.mh.bounds,teff2 = grid.teff.bounds,logg2 = grid.logg.bounds,mh2 = grid.mh.bounds)\n",
    "\n"
   ]
  },
  {
   "cell_type": "code",
   "execution_count": null,
   "metadata": {},
   "outputs": [],
   "source": []
  }
 ],
 "metadata": {
  "kernelspec": {
   "display_name": "Python 2",
   "language": "python",
   "name": "python2"
  },
  "language_info": {
   "codemirror_mode": {
    "name": "ipython",
    "version": 2
   },
   "file_extension": ".py",
   "mimetype": "text/x-python",
   "name": "python",
   "nbconvert_exporter": "python",
   "pygments_lexer": "ipython2",
   "version": "2.7.15"
  }
 },
 "nbformat": 4,
 "nbformat_minor": 2
}
