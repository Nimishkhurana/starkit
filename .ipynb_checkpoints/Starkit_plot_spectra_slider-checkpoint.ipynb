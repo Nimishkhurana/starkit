{
 "cells": [
  {
   "cell_type": "code",
   "execution_count": 1,
   "metadata": {},
   "outputs": [],
   "source": [
    "from starkit.gridkit import load_grid\n",
    "\n",
    "import matplotlib.pyplot as plt\n",
    "\n",
    "from ipywidgets import interact\n",
    "import ipywidgets as widgets"
   ]
  },
  {
   "cell_type": "code",
   "execution_count": 7,
   "metadata": {},
   "outputs": [
    {
     "name": "stdout",
     "output_type": "stream",
     "text": [
      "[\u001b[1mstarkit.gridkit.base\u001b[0m][\u001b[1;37mINFO\u001b[0m   ]  Reading index (\u001b[1mbase.py\u001b[0m:266)\n",
      "[\u001b[1mstarkit.gridkit.base\u001b[0m][\u001b[1;37mINFO\u001b[0m   ]  Discovered columns teff, logg, mh (\u001b[1mbase.py\u001b[0m:269)\n",
      "[\u001b[1mstarkit.gridkit.base\u001b[0m][\u001b[1;37mINFO\u001b[0m   ]  Reading Fluxes (\u001b[1mbase.py\u001b[0m:272)\n",
      "[\u001b[1mstarkit.gridkit.base\u001b[0m][\u001b[1;37mINFO\u001b[0m   ]  Fluxes shape (688, 13184) (\u001b[1mbase.py\u001b[0m:275)\n",
      "[\u001b[1mpy.warnings         \u001b[0m][\u001b[1;33mWARNING\u001b[0m]  /home/nimish/anaconda3/envs/starkit/lib/python2.7/site-packages/astropy/units/format/generic.py:461: UnitsWarning: 'erg/s/angstrom' contains multiple slashes, which is discouraged by the FITS standard\n",
      "  core.UnitsWarning)\n",
      " (\u001b[1mgeneric.py\u001b[0m:461)\n",
      "[\u001b[1mstarkit.gridkit.base\u001b[0m][\u001b[1;37mINFO\u001b[0m   ]  Initializing spec grid (\u001b[1mbase.py\u001b[0m:309)\n",
      "[\u001b[1mstarkit.gridkit.base\u001b[0m][\u001b[1;33mWARNING\u001b[0m]  **** NO WAVELENGTH TYPE SET DEFAULTING TO GRID (vacuum) ****\n",
      "\n",
      " (\u001b[1mbase.py\u001b[0m:75)\n"
     ]
    }
   ],
   "source": [
    "grid = load_grid('phoenix_t4000_10000_w3000_9000_r3000.h5')"
   ]
  },
  {
   "cell_type": "code",
   "execution_count": 8,
   "metadata": {},
   "outputs": [
    {
     "name": "stdout",
     "output_type": "stream",
     "text": [
      "(4000.0, 10000.0)\n",
      "Parameter('logg', value=3.0, bounds=(3.0, 5.0))\n",
      "Parameter('mh', value=0.0, bounds=(-1.0, 0.0))\n"
     ]
    }
   ],
   "source": [
    "print(grid.teff.bounds)\n",
    "print(grid.logg)\n",
    "print(grid.mh)"
   ]
  },
  {
   "cell_type": "code",
   "execution_count": 9,
   "metadata": {},
   "outputs": [],
   "source": [
    "# Generate a slider for all parameters of spectra\n",
    "def f(teff = 4000,logg = 3,mh = 0):\n",
    "    grid.teff = teff\n",
    "    grid.logg = logg\n",
    "    grid.mh = mh\n",
    "    wave,flux = grid()\n",
    "    plt.title(\"Spectrum at Teff = {}  logg={}  mh={}\".format(teff,logg,mh))\n",
    "    plt.plot(wave,flux)\n",
    "    \n",
    "    plt.show()\n"
   ]
  },
  {
   "cell_type": "code",
   "execution_count": 10,
   "metadata": {},
   "outputs": [
    {
     "data": {
      "application/vnd.jupyter.widget-view+json": {
       "model_id": "d43ef189f4b741ce8d7e13f4e9a5d7b0",
       "version_major": 2,
       "version_minor": 0
      },
      "text/plain": [
       "aW50ZXJhY3RpdmUoY2hpbGRyZW49KEZsb2F0U2xpZGVyKHZhbHVlPTQwMDAuMCwgZGVzY3JpcHRpb249dSd0ZWZmJywgbWF4PTEwMDAwLjAsIG1pbj00MDAwLjApLCBGbG9hdFNsaWRlcih2YWzigKY=\n"
      ]
     },
     "metadata": {},
     "output_type": "display_data"
    },
    {
     "data": {
      "text/plain": [
       "<function __main__.f>"
      ]
     },
     "execution_count": 10,
     "metadata": {},
     "output_type": "execute_result"
    }
   ],
   "source": [
    "interact(f, teff = grid.teff.bounds,logg = grid.logg.bounds,mh = grid.mh.bounds)"
   ]
  },
  {
   "cell_type": "code",
   "execution_count": null,
   "metadata": {},
   "outputs": [],
   "source": []
  }
 ],
 "metadata": {
  "kernelspec": {
   "display_name": "Python 2",
   "language": "python",
   "name": "python2"
  },
  "language_info": {
   "codemirror_mode": {
    "name": "ipython",
    "version": 2
   },
   "file_extension": ".py",
   "mimetype": "text/x-python",
   "name": "python",
   "nbconvert_exporter": "python",
   "pygments_lexer": "ipython2",
   "version": "2.7.15"
  }
 },
 "nbformat": 4,
 "nbformat_minor": 2
}
